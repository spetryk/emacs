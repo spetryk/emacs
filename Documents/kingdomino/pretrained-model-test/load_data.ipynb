{
 "cells": [
  {
   "cell_type": "code",
   "execution_count": 8,
   "metadata": {
    "autoscroll": false,
    "collapsed": false,
    "ein.tags": "worksheet-0",
    "slideshow": {
     "slide_type": "-"
    }
   },
   "outputs": [],
   "source": [
    "\"\"\"From our images, make data loader into keras compatible format\n",
    "   for transfer learning on densenet-121\"\"\"\n",
    "import numpy as np\n",
    "from sklearn.model_selection import train_test_split\n",
    "import os\n",
    "import matplotlib.pyplot as plt\n",
    "import glob"
   ]
  },
  {
   "cell_type": "code",
   "execution_count": 53,
   "metadata": {
    "autoscroll": false,
    "collapsed": false,
    "ein.tags": "worksheet-0",
    "slideshow": {
     "slide_type": "-"
    }
   },
   "outputs": [],
   "source": [
    "def load_data(train_dir, img_rows, img_cols):\n",
    "    \"\"\"\n",
    "    train_dir: directory where training data is held.\n",
    "    img_rows, img_cols: resolution of image (e.g. 64, 64)\n",
    "\n",
    "    Example train_dir format:\n",
    "    train_dir\n",
    "       -- water_0\n",
    "          -- img0.jpg\n",
    "          -- img1.jpg\n",
    "       -- forest_0\n",
    "          -- img27.jpg\n",
    "          -- img28.jpg\n",
    "    Returns:\n",
    "    x_train, x_test, y_train, y_test\n",
    "    x_train, x_test: uint8 array of RGB image data with shape (num_samples, 3, 32, 32).\n",
    "    y_train, y_test: uint8 array of category labels (integers in range 0-9) with shape (num_samples,)\n",
    "\"\"\"\n",
    "\n",
    "    data_dir = train_dir + '/**/*.jpg'\n",
    "    file_list = glob.glob(data_dir)\n",
    "\n",
    "    labels = list(map(lambda filename: filename.split(os.sep)[1], file_list))\n",
    "    labels = np.array(labels)\n",
    "\n",
    "    _, labels = np.unique(labels, return_inverse=True)\n",
    "    labels = np.array(labels, dtype='uint8')\n",
    "\n",
    "    imgs = list(map(plt.imread, file_list))\n",
    "\n",
    "    # Resize images to have 3 channels for future work with color\n",
    "    imgs = list(map(lambda x: np.resize(x, (img_rows, img_cols, 3)), imgs))\n",
    "    imgs = np.array(imgs, dtype='uint8')\n",
    "\n",
    "    X_train, X_test, y_train, y_test = train_test_split(\n",
    "        imgs, labels, test_size=0.25, random_state=42, shuffle=True)\n",
    "\n",
    "    return X_train, X_test, y_train, y_test\n",
    "\n"
   ]
  },
  {
   "cell_type": "code",
   "execution_count": 47,
   "metadata": {
    "autoscroll": false,
    "collapsed": false,
    "ein.tags": "worksheet-0",
    "slideshow": {
     "slide_type": "-"
    }
   },
   "outputs": [],
   "source": [
    "x_tr, x_te, y_tr, y_te = load_data('train_dir/', 224, 224)"
   ]
  }
 ],
 "metadata": {
  "name": "load_data.ipynb"
 },
 "nbformat": 4,
 "nbformat_minor": 2
}
